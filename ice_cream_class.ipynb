{
 "cells": [
  {
   "cell_type": "code",
   "execution_count": 12,
   "metadata": {},
   "outputs": [],
   "source": [
    "class IceCream:\n",
    "    CAPACITY = 200000\n",
    "    INVENTORY = 0\n",
    "\n",
    "    def __init__(self,weight,price,n):\n",
    "        self.weight = weight\n",
    "        self.price = price\n",
    "        self.n = 0\n",
    "        self.buy(n)\n",
    "\n",
    "    def buy(self,n):\n",
    "        new_weight = n*self.weight + IceCream.INVENTORY\n",
    "        if new_weight > IceCream.CAPACITY:\n",
    "            print('there is no capacity')\n",
    "        else:\n",
    "            IceCream.INVENTORY = new_weight\n",
    "            self.n += n\n",
    "\n",
    "    def sell(self,n):\n",
    "        if n <= self.n:\n",
    "            IceCream.INVENTORY -= n*self.weight\n",
    "            self.n -= n\n",
    "        else: \n",
    "            print('not enough')\n",
    "\n",
    "class MusicalIceCream(IceCream):\n",
    "    def __init__(self,weight,price,n,music):\n",
    "        super().__init__(weight,price,n)\n",
    "        self.music = music\n",
    "\n",
    "    def play_music(self):\n",
    "        print('playing music \"{self.music}\"')\n",
    "    \n",
    "    def sell(self,n):\n",
    "        super().sell(2*n)"
   ]
  },
  {
   "cell_type": "code",
   "execution_count": 13,
   "metadata": {},
   "outputs": [],
   "source": [
    "icy = IceCream(40,3,100)\n",
    "fruit = IceCream(55,7,200)\n",
    "m = MusicalIceCream(200,15,10,'Dance again')"
   ]
  },
  {
   "cell_type": "code",
   "execution_count": 14,
   "metadata": {},
   "outputs": [
    {
     "data": {
      "text/plain": [
       "17000"
      ]
     },
     "execution_count": 14,
     "metadata": {},
     "output_type": "execute_result"
    }
   ],
   "source": [
    "icy.INVENTORY"
   ]
  },
  {
   "cell_type": "code",
   "execution_count": 15,
   "metadata": {},
   "outputs": [
    {
     "data": {
      "text/plain": [
       "16200"
      ]
     },
     "execution_count": 15,
     "metadata": {},
     "output_type": "execute_result"
    }
   ],
   "source": [
    "m.sell(2)\n",
    "icy.INVENTORY"
   ]
  },
  {
   "cell_type": "code",
   "execution_count": 16,
   "metadata": {},
   "outputs": [
    {
     "data": {
      "text/plain": [
       "6"
      ]
     },
     "execution_count": 16,
     "metadata": {},
     "output_type": "execute_result"
    }
   ],
   "source": [
    "m.n"
   ]
  },
  {
   "cell_type": "code",
   "execution_count": 17,
   "metadata": {},
   "outputs": [
    {
     "name": "stdout",
     "output_type": "stream",
     "text": [
      "not enough\n"
     ]
    }
   ],
   "source": [
    "m.sell(5)"
   ]
  }
 ],
 "metadata": {
  "kernelspec": {
   "display_name": "Python 3",
   "language": "python",
   "name": "python3"
  },
  "language_info": {
   "codemirror_mode": {
    "name": "ipython",
    "version": 3
   },
   "file_extension": ".py",
   "mimetype": "text/x-python",
   "name": "python",
   "nbconvert_exporter": "python",
   "pygments_lexer": "ipython3",
   "version": "3.10.9"
  }
 },
 "nbformat": 4,
 "nbformat_minor": 2
}
